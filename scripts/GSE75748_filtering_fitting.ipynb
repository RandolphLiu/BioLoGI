{
 "cells": [
  {
   "cell_type": "markdown",
   "metadata": {},
   "source": [
    "# GSE75748 filtering and fitting\n",
    "\n",
    "We already have the Spearman coefficient matrix for the 162-sample study. After imputation, it only has 22,930 genes remain, with the others actually not expressing (originally more than 60,000 genes).\n",
    "\n",
    "With that in mind we have around 400,000,000 gene pairs. The correlation coefficient cutoff is set 0.85. How many gene pairs are considered correlated?"
   ]
  },
  {
   "cell_type": "code",
   "execution_count": 1,
   "metadata": {},
   "outputs": [],
   "source": [
    "%matplotlib inline\n",
    "import pandas as pd\n",
    "from matplotlib import pyplot as plt"
   ]
  },
  {
   "cell_type": "code",
   "execution_count": null,
   "metadata": {},
   "outputs": [],
   "source": [
    "# load spearman correlation matrix\n",
    "h9_spearman_corr = pd.read_csv(\"~/Storage/graduation_project/GSE75748/h9_spearman_corr.tsv\")\n",
    "h9_spearman_corr.head()"
   ]
  },
  {
   "cell_type": "code",
   "execution_count": null,
   "metadata": {},
   "outputs": [],
   "source": []
  }
 ],
 "metadata": {
  "kernelspec": {
   "display_name": "Python 3",
   "language": "python",
   "name": "python3"
  },
  "language_info": {
   "codemirror_mode": {
    "name": "ipython",
    "version": 3
   },
   "file_extension": ".py",
   "mimetype": "text/x-python",
   "name": "python",
   "nbconvert_exporter": "python",
   "pygments_lexer": "ipython3",
   "version": "3.6.10"
  }
 },
 "nbformat": 4,
 "nbformat_minor": 4
}
