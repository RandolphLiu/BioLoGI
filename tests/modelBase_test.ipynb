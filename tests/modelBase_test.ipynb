{
 "cells": [
  {
   "cell_type": "code",
   "execution_count": 1,
   "metadata": {},
   "outputs": [
    {
     "name": "stdout",
     "output_type": "stream",
     "text": [
      "The expression for model 1 is:\n",
      "  n          n  \n",
      "A *alpha + K *b\n",
      "---------------\n",
      "      / n    n\\\n",
      " beta*\\A  + K /\n",
      "Required parameters: ['alpha', 'beta', 'b', 'K', 'n']\n"
     ]
    }
   ],
   "source": [
    "from modelBase import *\n",
    "from sympy import init_printing\n",
    "\n",
    "# 将enum变量导入到全局\n",
    "globals().update(ModelType.__members__)\n",
    "globals().update(ModelSpec.__members__)\n",
    "# sympy打印功能\n",
    "init_printing()\n",
    "\n",
    "# 模型一\n",
    "# 可诱导启动子，Hill方程，有基底表达\n",
    "exp1, paraList1, model1 = genModel(Inducible, [Repression, Hill, Basal_expression])\n",
    "print(\"The expression for model 1 is:\\n\", exp1)\n",
    "print(\"Required parameters:\", paraList1)\n",
    "\n",
    "# 模型二\n",
    "# 同样是可诱导启动子，Hill系数为2以模拟二聚化，无基底表达。并且考虑诱导物：\n",
    "# 考虑到Lac启动子系统，其中LacI为抑制子，而半乳糖为诱导物，此二者共同作用于pLac启动子上。此模型便是考虑到者二者的共同作用\n",
    "exp2, _, model2 = genModel(Inducible, [\n",
    "    Activation, Dimerized, No_basal_expression, Inducer, Inducer_Activation, Inducer_Michaelis_Menten\n",
    "], plain_print=False)"
   ]
  },
  {
   "cell_type": "code",
   "execution_count": 2,
   "metadata": {},
   "outputs": [
    {
     "data": {
      "image/png": "[encoded data removed]",
      "text/latex": [
       "$\\displaystyle \\frac{A^{2} I^{2} \\alpha}{\\beta \\left(I + K_{I}\\right)^{2} \\left(\\frac{A^{2} I^{2}}{\\left(I + K_{I}\\right)^{2}} + K^{2}\\right)}$"
      ],
      "text/plain": [
       "            2  2              \n",
       "           A ⋅I ⋅α            \n",
       "──────────────────────────────\n",
       "             ⎛   2  2        ⎞\n",
       "           2 ⎜  A ⋅I        2⎟\n",
       "β⋅(I + K_I) ⋅⎜────────── + K ⎟\n",
       "             ⎜         2     ⎟\n",
       "             ⎝(I + K_I)      ⎠"
      ]
     },
     "execution_count": 2,
     "metadata": {},
     "output_type": "execute_result"
    }
   ],
   "source": [
    "exp2"
   ]
  },
  {
   "cell_type": "code",
   "execution_count": 3,
   "metadata": {},
   "outputs": [
    {
     "data": {
      "image/png": "[encoded data removed]",
      "text/plain": [
       "<Figure size 432x288 with 1 Axes>"
      ]
     },
     "metadata": {
      "needs_background": "light"
     },
     "output_type": "display_data"
    }
   ],
   "source": [
    "# 给模型二指定以下的参数：\n",
    "# 转录因子（此处为激活子）浓度 [A] = 5.0uM，转录（以及翻译）活性 alpha = 2.0，降解速率 beta = 0.5\n",
    "# （激活子的）解离常数，即米氏常数 K = 20.0uM，诱导物的米氏常数 K_I = 2.0 uM\n",
    "\n",
    "# 考虑以下诱导物浓度梯度：[0.125, 0.25, 0.5, 1, 2, 4, 8, 16, 32, 64, 128 (uM)\n",
    "\n",
    "%matplotlib inline\n",
    "from matplotlib import pyplot as plt\n",
    "import numpy as np\n",
    "\n",
    "inducerGradient = np.array([x * 1E-6 for x in [0.125, 0.25, 0.5, 1, 2, 4, 8, 16, 32, 64, 128]])\n",
    "product = model2(inducerGradient, {\n",
    "    'A': 5.0E-6, 'alpha': 2.0, 'beta': 0.5, 'K': 20.0E-6, 'K_I': 2.0E-6 \n",
    "})\n",
    "\n",
    "# 绘制\n",
    "fig, ax = plt.subplots()\n",
    "ax.plot(inducerGradient, product, 'o')\n",
    "ax.set_xscale('log')\n",
    "ax.set_xlabel('[inducer]/M')\n",
    "ax.set_ylabel('[product]/M')\n",
    "plt.show()"
   ]
  }
 ],
 "metadata": {
  "kernelspec": {
   "display_name": "Python 3",
   "language": "python",
   "name": "python3"
  },
  "language_info": {
   "codemirror_mode": {
    "name": "ipython",
    "version": 3
   },
   "file_extension": ".py",
   "mimetype": "text/x-python",
   "name": "python",
   "nbconvert_exporter": "python",
   "pygments_lexer": "ipython3",
   "version": "3.7.3"
  }
 },
 "nbformat": 4,
 "nbformat_minor": 2
}
